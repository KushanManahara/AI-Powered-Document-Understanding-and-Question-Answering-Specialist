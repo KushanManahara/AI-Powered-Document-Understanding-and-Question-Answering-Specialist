{
 "cells": [
  {
   "cell_type": "code",
   "execution_count": 32,
   "metadata": {},
   "outputs": [],
   "source": [
    "import os\n",
    "import random\n",
    "import itertools\n",
    "\n",
    "from langchain.document_loaders import TextLoader\n",
    "from langchain.text_splitter import RecursiveCharacterTextSplitter\n",
    "from langchain_google_genai import GoogleGenerativeAIEmbeddings\n",
    "from langchain.vectorstores import Pinecone as pinecone_lang\n",
    "from langchain.chains.question_answering import load_qa_chain\n",
    "from langchain_google_genai import GoogleGenerativeAI\n",
    "\n",
    "from pinecone import Pinecone, ServerlessSpec\n",
    "\n",
    "from markdown_utils import to_markdown"
   ]
  },
  {
   "cell_type": "markdown",
   "metadata": {},
   "source": [
    "## Define constants\n"
   ]
  },
  {
   "cell_type": "code",
   "execution_count": 33,
   "metadata": {},
   "outputs": [],
   "source": [
    "MODEL_NAME = \"gemini-1.5-pro-latest\"\n",
    "EMBEDDING_MODEL_NAME = \"models/embedding-001\""
   ]
  },
  {
   "cell_type": "markdown",
   "metadata": {},
   "source": [
    "## Retrieve the environment variables\n"
   ]
  },
  {
   "cell_type": "code",
   "execution_count": 34,
   "metadata": {},
   "outputs": [],
   "source": [
    "MODEL_API_KEY = os.environ.get(\"GOOGLE_API_KEY\")\n",
    "PINECONE_API_KEY = os.environ.get(\"PINECONE_API_KEY\")"
   ]
  },
  {
   "cell_type": "markdown",
   "metadata": {},
   "source": [
    "## Pinecone init and configuration\n"
   ]
  },
  {
   "cell_type": "code",
   "execution_count": 35,
   "metadata": {},
   "outputs": [],
   "source": [
    "pc = Pinecone(api_key=PINECONE_API_KEY)\n",
    "\n",
    "# Define the pinecone index name\n",
    "index_name = \"gimhara-pinecone-index\""
   ]
  },
  {
   "cell_type": "markdown",
   "metadata": {},
   "source": [
    "## Initialize the llm model (google gemini model)\n"
   ]
  },
  {
   "cell_type": "code",
   "execution_count": 36,
   "metadata": {},
   "outputs": [],
   "source": [
    "llm = GoogleGenerativeAI(model=MODEL_NAME, google_api_key=MODEL_API_KEY)"
   ]
  },
  {
   "cell_type": "markdown",
   "metadata": {},
   "source": [
    "## Prepare the data\n"
   ]
  },
  {
   "cell_type": "code",
   "execution_count": 37,
   "metadata": {},
   "outputs": [],
   "source": [
    "loader = TextLoader(file_path=\"./data/data.txt\")\n",
    "data = loader.load()\n",
    "text_splitter = RecursiveCharacterTextSplitter(chunk_size=500, chunk_overlap=50)\n",
    "texts = text_splitter.split_documents(data)\n",
    "text_contents = [t.page_content for t in texts]"
   ]
  },
  {
   "cell_type": "markdown",
   "metadata": {},
   "source": [
    "## Vector embedding data\n"
   ]
  },
  {
   "cell_type": "code",
   "execution_count": 38,
   "metadata": {},
   "outputs": [],
   "source": [
    "vector_dim = 768  # number of vector dimension of google gemini embeddings\n",
    "vector_count = len(texts)\n",
    "\n",
    "\n",
    "# Initialize embeddings model\n",
    "embeddings = GoogleGenerativeAIEmbeddings(model=EMBEDDING_MODEL_NAME)"
   ]
  },
  {
   "cell_type": "markdown",
   "metadata": {},
   "source": [
    "## A helper function to break an iterable into chunks of size batch_size\n"
   ]
  },
  {
   "cell_type": "code",
   "execution_count": 39,
   "metadata": {},
   "outputs": [],
   "source": [
    "def chunks(iterable, batch_size=100):\n",
    "\n",
    "    it = iter(iterable)\n",
    "    chunk = tuple(itertools.islice(it, batch_size))\n",
    "    while chunk:\n",
    "        yield chunk\n",
    "        chunk = tuple(itertools.islice(it, batch_size))"
   ]
  },
  {
   "cell_type": "markdown",
   "metadata": {},
   "source": [
    "## Data Generator that generates many (id, vector) pairs\n"
   ]
  },
  {
   "cell_type": "code",
   "execution_count": 40,
   "metadata": {},
   "outputs": [],
   "source": [
    "data_generator = map(\n",
    "    lambda i: (f\"id-{i}\", [random.random() for _ in range(vector_dim)]),\n",
    "    range(vector_count),\n",
    ")"
   ]
  },
  {
   "cell_type": "markdown",
   "metadata": {},
   "source": [
    "## Create and initialize a pinecone instance\n"
   ]
  },
  {
   "cell_type": "code",
   "execution_count": 41,
   "metadata": {},
   "outputs": [],
   "source": [
    "pc.create_index(\n",
    "    name=index_name,\n",
    "    dimension=vector_dim,\n",
    "    metric=\"cosine\",\n",
    "    spec=ServerlessSpec(cloud=\"aws\", region=\"us-east-1\"),\n",
    ")"
   ]
  },
  {
   "cell_type": "markdown",
   "metadata": {},
   "source": [
    "## Initialize the Pinecone index\n"
   ]
  },
  {
   "cell_type": "code",
   "execution_count": 42,
   "metadata": {},
   "outputs": [],
   "source": [
    "index = pc.Index(index_name)"
   ]
  },
  {
   "cell_type": "markdown",
   "metadata": {},
   "source": [
    "## Upsert data with 100 vectors per upsert request\n"
   ]
  },
  {
   "cell_type": "code",
   "execution_count": 43,
   "metadata": {},
   "outputs": [],
   "source": [
    "for ids_vectors_chunk in chunks(data_generator, batch_size=100):\n",
    "    index.upsert(vectors=ids_vectors_chunk)"
   ]
  },
  {
   "cell_type": "markdown",
   "metadata": {},
   "source": [
    "## create a docserch object for given index\n"
   ]
  },
  {
   "cell_type": "code",
   "execution_count": 44,
   "metadata": {},
   "outputs": [],
   "source": [
    "docsearch = pinecone_lang.from_texts(\n",
    "    [t.page_content for t in texts], embeddings, index_name=index_name\n",
    ")"
   ]
  },
  {
   "cell_type": "markdown",
   "metadata": {},
   "source": [
    "## Define query\n"
   ]
  },
  {
   "cell_type": "code",
   "execution_count": 45,
   "metadata": {},
   "outputs": [],
   "source": [
    "query = \"what are the Challenges and Opportunities in Sri Lanka?\""
   ]
  },
  {
   "cell_type": "markdown",
   "metadata": {},
   "source": [
    "## Get the documents from the pinecone db which is similar to the query\n"
   ]
  },
  {
   "cell_type": "code",
   "execution_count": 46,
   "metadata": {},
   "outputs": [],
   "source": [
    "docs = docsearch.similarity_search(query, k=10)"
   ]
  },
  {
   "cell_type": "code",
   "execution_count": 47,
   "metadata": {},
   "outputs": [
    {
     "data": {
      "text/plain": [
       "[Document(page_content='*Challenges and Opportunities*'),\n",
       " Document(page_content=\"*Tourism*\\n\\nSri Lanka's natural beauty and cultural heritage have made it a popular tourist destination, attracting millions of visitors each year. From the ancient city of Anuradhapura to the pristine beaches of Mirissa, the island offers a wealth of attractions for travelers seeking adventure, relaxation, and cultural immersion. However, the tourism industry also faces challenges, such as environmental degradation, overcrowding, and the need for sustainable development practices.\"),\n",
       " Document(page_content='Despite its many strengths, Sri Lanka faces numerous challenges in the modern world. Ethnic tensions, political instability, and socioeconomic disparities continue to hamper progress and development. However, the island also possesses significant opportunities for growth and prosperity, including its strategic location, natural resources, and human capital. By addressing these challenges and harnessing its potential, Sri Lanka can chart a course towards a brighter future for its people.'),\n",
       " Document(page_content='**Sri Lanka: Jewel of the Indian Ocean**'),\n",
       " Document(page_content='and the challenges it faces in the modern world.'),\n",
       " Document(page_content='*Culture and Society*'),\n",
       " Document(page_content='*Economy*\\n\\nDespite its small size, Sri Lanka boasts a relatively diverse economy, with agriculture, industry, and services sectors contributing to its GDP. The country is known for its export-oriented industries, including tea, garments, and tourism. However, Sri Lanka faces economic challenges, including high levels of debt, poverty, and unemployment, exacerbated by the impacts of natural disasters and political instability.\\n\\n*Tourism*'),\n",
       " Document(page_content=\"In conclusion, Sri Lanka's allure lies not only in its breathtaking natural beauty but also in its rich history, vibrant culture, and resilient people. As the country navigates the complexities of the modern world, it must draw upon its strengths and values to overcome challenges and seize opportunities for a better tomorrow.\"),\n",
       " Document(page_content=\"*Geography and Climate*\\n\\nLocated off the southern tip of India, Sri Lanka's geography is characterized by its coastal plains, central highlands, and interior plateaus. The island's compact size belies its remarkable biodiversity, with dense forests teeming with wildlife and fertile plains that support agriculture. Sri Lanka's climate varies from tropical in the lowlands to temperate in the central highlands, offering a range of ecosystems and microclimates.\\n\\n*History*\"),\n",
       " Document(page_content=\"Sri Lanka's history, but it was marred by ethnic tensions that ultimately led to a protracted civil war lasting nearly three decades.\")]"
      ]
     },
     "execution_count": 47,
     "metadata": {},
     "output_type": "execute_result"
    }
   ],
   "source": [
    "docs"
   ]
  },
  {
   "cell_type": "markdown",
   "metadata": {},
   "source": [
    "## Create a chain object from langchain for questions and answerings\n"
   ]
  },
  {
   "cell_type": "code",
   "execution_count": 48,
   "metadata": {},
   "outputs": [],
   "source": [
    "chain = load_qa_chain(llm, chain_type=\"stuff\")"
   ]
  },
  {
   "cell_type": "markdown",
   "metadata": {},
   "source": [
    "## Run the chain and store the results\n"
   ]
  },
  {
   "cell_type": "code",
   "execution_count": 49,
   "metadata": {},
   "outputs": [],
   "source": [
    "chain_output = chain.run(input_documents=docs, question=query)"
   ]
  },
  {
   "cell_type": "markdown",
   "metadata": {},
   "source": [
    "## Display the results in markdown format\n"
   ]
  },
  {
   "cell_type": "code",
   "execution_count": 50,
   "metadata": {},
   "outputs": [
    {
     "data": {
      "text/markdown": [
       "> ## Challenges and Opportunities in Sri Lanka:\n",
       "> \n",
       "> **Challenges:**\n",
       "> \n",
       "> * **Ethnic Tensions and Political Instability:**  Sri Lanka's history is marked by ethnic tensions, leading to a long civil war. While the war ended in 2009, achieving lasting peace and reconciliation remains a challenge. Political instability further complicates progress and development. \n",
       "> * **Economic Issues:**  High levels of debt, poverty, and unemployment pose significant challenges. The impacts of natural disasters and political instability exacerbate these issues.\n",
       "> * **Environmental Concerns:**  The tourism industry, while beneficial, also contributes to environmental degradation and overcrowding. Balancing economic growth with sustainable development is crucial.\n",
       "> \n",
       "> **Opportunities:**\n",
       "> \n",
       "> * **Strategic Location:**  Sri Lanka's position in the Indian Ocean offers potential for increased trade and economic growth.\n",
       "> * **Natural Resources:**  The island's fertile lands and diverse ecosystems provide opportunities for agricultural development and ecotourism.\n",
       "> * **Human Capital:**  Sri Lanka has a relatively well-educated population, which can contribute to advancements in various sectors.\n",
       "> * **Tourism Potential:** With its natural beauty and cultural heritage, Sri Lanka can further develop sustainable tourism practices to attract visitors while preserving its environment and cultural identity. \n",
       "> \n",
       "> **By addressing its challenges and leveraging its opportunities, Sri Lanka can work towards a brighter future for its people.** \n"
      ],
      "text/plain": [
       "<IPython.core.display.Markdown object>"
      ]
     },
     "execution_count": 50,
     "metadata": {},
     "output_type": "execute_result"
    }
   ],
   "source": [
    "to_markdown(chain_output)"
   ]
  }
 ],
 "metadata": {
  "kernelspec": {
   "display_name": "venv",
   "language": "python",
   "name": "python3"
  },
  "language_info": {
   "codemirror_mode": {
    "name": "ipython",
    "version": 3
   },
   "file_extension": ".py",
   "mimetype": "text/x-python",
   "name": "python",
   "nbconvert_exporter": "python",
   "pygments_lexer": "ipython3",
   "version": "3.10.12"
  }
 },
 "nbformat": 4,
 "nbformat_minor": 2
}
